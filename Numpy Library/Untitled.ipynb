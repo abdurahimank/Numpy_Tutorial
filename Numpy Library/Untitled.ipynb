{
 "cells": [
  {
   "cell_type": "code",
   "execution_count": null,
   "id": "9f2aaa94",
   "metadata": {},
   "outputs": [],
   "source": [
    "    \"\"\"\n",
    "    mean=round(np.mean(arr), 2)\n",
    "    median=np.median(arr)\n",
    "    std_deviation=round(np.std(arr), 2)\n",
    "    variance=round(np.var(arr), 2)\n",
    "    mode=statistics.mode(arr)\n",
    "    iqr=round(np.percentile(arr, 75) - np.percentile(arr, 25), 2)\n",
    "    \"\"\""
   ]
  }
 ],
 "metadata": {
  "kernelspec": {
   "display_name": "Python 3 (ipykernel)",
   "language": "python",
   "name": "python3"
  },
  "language_info": {
   "codemirror_mode": {
    "name": "ipython",
    "version": 3
   },
   "file_extension": ".py",
   "mimetype": "text/x-python",
   "name": "python",
   "nbconvert_exporter": "python",
   "pygments_lexer": "ipython3",
   "version": "3.9.12"
  }
 },
 "nbformat": 4,
 "nbformat_minor": 5
}
