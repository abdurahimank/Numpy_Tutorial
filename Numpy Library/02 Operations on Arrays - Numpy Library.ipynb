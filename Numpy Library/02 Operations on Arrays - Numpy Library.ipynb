{
 "cells": [
  {
   "cell_type": "markdown",
   "id": "10d9be09",
   "metadata": {},
   "source": [
    "# Numpy Library - Operations on Arrays"
   ]
  },
  {
   "cell_type": "markdown",
   "id": "1d342eb3",
   "metadata": {},
   "source": [
    "#### Index\n",
    "1. Arithmetic\n",
    "2. Compound Assignment\n",
    "3. Boolean \n",
    "4. Vector operations"
   ]
  },
  {
   "cell_type": "markdown",
   "id": "41037b06",
   "metadata": {},
   "source": [
    "# Arithmetic\n",
    "#### Addition"
   ]
  },
  {
   "cell_type": "code",
   "execution_count": 2,
   "id": "8185f075",
   "metadata": {},
   "outputs": [],
   "source": [
    "import numpy as np"
   ]
  },
  {
   "cell_type": "code",
   "execution_count": 10,
   "id": "1c5182f6",
   "metadata": {},
   "outputs": [
    {
     "name": "stdout",
     "output_type": "stream",
     "text": [
      "a:  4\n",
      "b:  5\n",
      "a + B:  9\n"
     ]
    }
   ],
   "source": [
    "# Scalar + Scalar\n",
    "a = np.array(4)\n",
    "b = np.array(5)\n",
    "print(\"a: \", a)\n",
    "print(\"b: \", b)\n",
    "print(\"a + B: \", a + b)"
   ]
  },
  {
   "cell_type": "code",
   "execution_count": 11,
   "id": "f2999456",
   "metadata": {},
   "outputs": [
    {
     "name": "stdout",
     "output_type": "stream",
     "text": [
      "a:  [1 2 3 4]\n",
      "b:  [1 2 3 4]\n",
      "a + B:  [2 4 6 8]\n"
     ]
    }
   ],
   "source": [
    "# 1D array + 1D array\n",
    "a = np.array([1, 2, 3, 4])\n",
    "b = np.array([1, 2, 3, 4])\n",
    "print(\"a: \", a)\n",
    "print(\"b: \", b)\n",
    "print(\"a + B: \", a + b)"
   ]
  },
  {
   "cell_type": "code",
   "execution_count": 13,
   "id": "402dcfe6",
   "metadata": {},
   "outputs": [
    {
     "name": "stdout",
     "output_type": "stream",
     "text": [
      "a:  [0 1 2 3]\n",
      "b:  10\n",
      "a + B:  [10 11 12 13]\n"
     ]
    }
   ],
   "source": [
    "# 1D array + Scalar\n",
    "# This process is called broadcasting\n",
    "a = np.arange(4)\n",
    "b = np.array(10)\n",
    "print(\"a: \", a)\n",
    "print(\"b: \", b)\n",
    "print(\"a + B: \", a + b)"
   ]
  },
  {
   "cell_type": "code",
   "execution_count": 14,
   "id": "f46c557f",
   "metadata": {},
   "outputs": [
    {
     "name": "stdout",
     "output_type": "stream",
     "text": [
      "a:  [[1 2 3]\n",
      " [4 5 6]]\n",
      "b:  [[1 2 3]\n",
      " [4 5 6]]\n",
      "a + B:  [[ 2  4  6]\n",
      " [ 8 10 12]]\n"
     ]
    }
   ],
   "source": [
    "# 2D array + 2D array\n",
    "a = np.array([[1, 2, 3], [4, 5, 6]])\n",
    "b = np.array([[1, 2, 3], [4, 5, 6]])\n",
    "print(\"a: \", a)\n",
    "print(\"b: \", b)\n",
    "print(\"a + B: \", a + b)"
   ]
  },
  {
   "cell_type": "code",
   "execution_count": 15,
   "id": "226d086d",
   "metadata": {},
   "outputs": [
    {
     "name": "stdout",
     "output_type": "stream",
     "text": [
      "a:  [[1 2 3]\n",
      " [4 5 6]]\n",
      "b:  [1 2 3]\n",
      "a + B:  [[2 4 6]\n",
      " [5 7 9]]\n"
     ]
    }
   ],
   "source": [
    "# 2D array + 1D array\n",
    "a = np.array([[1, 2, 3], [4, 5, 6]])\n",
    "b = np.array([1, 2, 3])\n",
    "print(\"a: \", a)\n",
    "print(\"b: \", b)\n",
    "print(\"a + B: \", a + b)"
   ]
  },
  {
   "cell_type": "code",
   "execution_count": 16,
   "id": "edf70e72",
   "metadata": {},
   "outputs": [
    {
     "name": "stdout",
     "output_type": "stream",
     "text": [
      "a:  [[1 2 3]\n",
      " [4 5 6]]\n",
      "b:  10\n",
      "a + B:  [[11 12 13]\n",
      " [14 15 16]]\n"
     ]
    }
   ],
   "source": [
    "# 2D array + Scalar\n",
    "a = np.array([[1, 2, 3], [4, 5, 6]])\n",
    "b = np.array(10)\n",
    "print(\"a: \", a)\n",
    "print(\"b: \", b)\n",
    "print(\"a + B: \", a + b)"
   ]
  },
  {
   "cell_type": "markdown",
   "id": "ef66ae82",
   "metadata": {},
   "source": [
    "#### Multiplication"
   ]
  },
  {
   "cell_type": "code",
   "execution_count": 18,
   "id": "17e8a7f4",
   "metadata": {},
   "outputs": [
    {
     "name": "stdout",
     "output_type": "stream",
     "text": [
      "a:  4\n",
      "b:  5\n",
      "a * B:  20\n"
     ]
    }
   ],
   "source": [
    "# Scalar * Scalar\n",
    "a = np.array(4)\n",
    "b = np.array(5)\n",
    "print(\"a: \", a)\n",
    "print(\"b: \", b)\n",
    "print(\"a * B: \", a * b)"
   ]
  },
  {
   "cell_type": "code",
   "execution_count": 19,
   "id": "3277ae49",
   "metadata": {},
   "outputs": [
    {
     "name": "stdout",
     "output_type": "stream",
     "text": [
      "a:  [1 2 3 4]\n",
      "b:  [1 2 3 4]\n",
      "a * B:  [ 1  4  9 16]\n"
     ]
    }
   ],
   "source": [
    "# 1D array * 1D array\n",
    "a = np.array([1, 2, 3, 4])\n",
    "b = np.array([1, 2, 3, 4])\n",
    "print(\"a: \", a)\n",
    "print(\"b: \", b)\n",
    "print(\"a * B: \", a * b)"
   ]
  },
  {
   "cell_type": "code",
   "execution_count": 20,
   "id": "b2f7bef9",
   "metadata": {},
   "outputs": [
    {
     "name": "stdout",
     "output_type": "stream",
     "text": [
      "a:  [0 1 2 3]\n",
      "b:  10\n",
      "a * B:  [ 0 10 20 30]\n"
     ]
    }
   ],
   "source": [
    "# 1D array * Scalar\n",
    "a = np.arange(4)\n",
    "b = np.array(10)\n",
    "print(\"a: \", a)\n",
    "print(\"b: \", b)\n",
    "print(\"a * B: \", a * b)"
   ]
  },
  {
   "cell_type": "code",
   "execution_count": 21,
   "id": "fe985b5b",
   "metadata": {},
   "outputs": [
    {
     "name": "stdout",
     "output_type": "stream",
     "text": [
      "a:  [[1 2 3]\n",
      " [4 5 6]]\n",
      "b:  [[1 2 3]\n",
      " [4 5 6]]\n",
      "a * B:  [[ 1  4  9]\n",
      " [16 25 36]]\n"
     ]
    }
   ],
   "source": [
    "# 2D array * 2D array\n",
    "a = np.array([[1, 2, 3], [4, 5, 6]])\n",
    "b = np.array([[1, 2, 3], [4, 5, 6]])\n",
    "print(\"a: \", a)\n",
    "print(\"b: \", b)\n",
    "print(\"a * B: \", a * b)"
   ]
  },
  {
   "cell_type": "code",
   "execution_count": 22,
   "id": "a367f960",
   "metadata": {},
   "outputs": [
    {
     "name": "stdout",
     "output_type": "stream",
     "text": [
      "a:  [[1 2 3]\n",
      " [4 5 6]]\n",
      "b:  [1 2 3]\n",
      "a * B:  [[ 1  4  9]\n",
      " [ 4 10 18]]\n"
     ]
    }
   ],
   "source": [
    "# 2D array * 1D array\n",
    "a = np.array([[1, 2, 3], [4, 5, 6]])\n",
    "b = np.array([1, 2, 3])\n",
    "print(\"a: \", a)\n",
    "print(\"b: \", b)\n",
    "print(\"a * B: \", a * b)"
   ]
  },
  {
   "cell_type": "code",
   "execution_count": 23,
   "id": "50181df2",
   "metadata": {},
   "outputs": [
    {
     "name": "stdout",
     "output_type": "stream",
     "text": [
      "a:  [[1 2 3]\n",
      " [4 5 6]]\n",
      "b:  10\n",
      "a * B:  [[10 20 30]\n",
      " [40 50 60]]\n"
     ]
    }
   ],
   "source": [
    "# 2D array * Scalar\n",
    "a = np.array([[1, 2, 3], [4, 5, 6]])\n",
    "b = np.array(10)\n",
    "print(\"a: \", a)\n",
    "print(\"b: \", b)\n",
    "print(\"a * B: \", a * b)"
   ]
  },
  {
   "cell_type": "markdown",
   "id": "64541fab",
   "metadata": {},
   "source": [
    "# Compound Assignment"
   ]
  },
  {
   "cell_type": "code",
   "execution_count": 17,
   "id": "e4e196a8",
   "metadata": {},
   "outputs": [
    {
     "name": "stdout",
     "output_type": "stream",
     "text": [
      "[1 2 3]\n",
      "[11 12 13]\n"
     ]
    }
   ],
   "source": [
    "a = np.array([1, 2, 3])\n",
    "print(a)\n",
    "a += 10\n",
    "print(a)"
   ]
  },
  {
   "cell_type": "code",
   "execution_count": null,
   "id": "ba527321",
   "metadata": {},
   "outputs": [],
   "source": []
  },
  {
   "cell_type": "code",
   "execution_count": null,
   "id": "b01fc51f",
   "metadata": {},
   "outputs": [],
   "source": []
  },
  {
   "cell_type": "markdown",
   "id": "e9ed7d48",
   "metadata": {},
   "source": [
    "# Boolean Operations"
   ]
  },
  {
   "cell_type": "code",
   "execution_count": 1,
   "id": "a71756c1",
   "metadata": {},
   "outputs": [],
   "source": [
    "import numpy as np"
   ]
  },
  {
   "cell_type": "code",
   "execution_count": 2,
   "id": "679b0bf7",
   "metadata": {},
   "outputs": [
    {
     "data": {
      "text/plain": [
       "array([0, 1, 2, 3, 4])"
      ]
     },
     "execution_count": 2,
     "metadata": {},
     "output_type": "execute_result"
    }
   ],
   "source": [
    "a = np.arange(5)\n",
    "a"
   ]
  },
  {
   "cell_type": "code",
   "execution_count": 3,
   "id": "05cef6b9",
   "metadata": {},
   "outputs": [
    {
     "name": "stdout",
     "output_type": "stream",
     "text": [
      "[False False False  True  True]\n"
     ]
    }
   ],
   "source": [
    "print(a > 2)"
   ]
  },
  {
   "cell_type": "markdown",
   "id": "d337f095",
   "metadata": {},
   "source": [
    "# Vector Operations"
   ]
  },
  {
   "cell_type": "markdown",
   "id": "27652036-1d63-4af8-8e29-6ab703a6afc1",
   "metadata": {},
   "source": [
    "### Vector Addition\n",
    "![numpy_operations_1](https://github.com/abdurahimank/Statistics-using-Python/blob/main/images/numpy_operations_1.png?raw=true)"
   ]
  },
  {
   "cell_type": "code",
   "execution_count": 9,
   "id": "8ba48552-0d10-4ac3-8cde-c28264350f36",
   "metadata": {},
   "outputs": [
    {
     "name": "stdout",
     "output_type": "stream",
     "text": [
      "[1 0]\n",
      "[0 1]\n",
      "[1 1]\n",
      "<class 'numpy.ndarray'>\n"
     ]
    }
   ],
   "source": [
    "import numpy as np\n",
    "u = np.array([1, 0])\n",
    "v = np.array([0, 1])\n",
    "z = u + v\n",
    "print(u, v, z, type(z), sep=\"\\n\")"
   ]
  },
  {
   "cell_type": "code",
   "execution_count": 6,
   "id": "0a816a66-62f2-4501-b66d-c65b2f93dcc7",
   "metadata": {},
   "outputs": [
    {
     "data": {
      "text/plain": [
       "array([[2., 0., 0.],\n",
       "       [0., 2., 0.],\n",
       "       [0., 0., 2.]])"
      ]
     },
     "execution_count": 6,
     "metadata": {},
     "output_type": "execute_result"
    }
   ],
   "source": [
    "u = np.eye(3)\n",
    "z = u + u\n",
    "z"
   ]
  },
  {
   "cell_type": "markdown",
   "id": "a60a7382-6e41-448b-a9a3-cc2a139b8474",
   "metadata": {},
   "source": [
    "### Vector Subtraction"
   ]
  },
  {
   "cell_type": "code",
   "execution_count": 7,
   "id": "fa792137-f59f-4c3d-b74d-26a6f5e1a866",
   "metadata": {},
   "outputs": [
    {
     "name": "stdout",
     "output_type": "stream",
     "text": [
      "[1 0]\n",
      "[0 1]\n",
      "[ 1 -1]\n",
      "<class 'numpy.ndarray'>\n"
     ]
    }
   ],
   "source": [
    "import numpy as np\n",
    "u = np.array([1, 0])\n",
    "v = np.array([0, 1])\n",
    "z = u - v\n",
    "print(u, v, z, type(z), sep = \"\\n\")"
   ]
  },
  {
   "cell_type": "markdown",
   "id": "02912872-fc1a-40c7-8ad5-d6786e77a802",
   "metadata": {},
   "source": [
    "### Scalar Multiplication\n",
    "![numpy_operations_2](https://github.com/abdurahimank/Statistics-using-Python/blob/main/images/numpy_operations_2.png?raw=true)"
   ]
  },
  {
   "cell_type": "code",
   "execution_count": 8,
   "id": "5324cd95-0259-4d93-9315-fe92db015b8b",
   "metadata": {},
   "outputs": [
    {
     "name": "stdout",
     "output_type": "stream",
     "text": [
      "[1 2]\n",
      "[2 4]\n"
     ]
    }
   ],
   "source": [
    "u = np.array([1, 2])\n",
    "z = 2 * u\n",
    "print(u, z, sep=\"\\n\")"
   ]
  },
  {
   "cell_type": "code",
   "execution_count": null,
   "id": "24f072f6-2a79-4fb1-9188-b91ce680cf22",
   "metadata": {},
   "outputs": [],
   "source": []
  },
  {
   "cell_type": "markdown",
   "id": "a281d459",
   "metadata": {},
   "source": [
    "#### Dot Product\n",
    "![numpy_operations_3](https://github.com/abdurahimank/Statistics-using-Python/blob/main/images/numpy_operations_3.png?raw=true)"
   ]
  },
  {
   "cell_type": "code",
   "execution_count": 10,
   "id": "35588f89-acf4-49d4-850b-851fd66669aa",
   "metadata": {},
   "outputs": [
    {
     "name": "stdout",
     "output_type": "stream",
     "text": [
      "[1 2]\n",
      "[3 1]\n",
      "5\n",
      "<class 'numpy.int32'>\n"
     ]
    }
   ],
   "source": [
    "u = np.array([1, 2])\n",
    "v = np.array([3, 1])\n",
    "z = np.dot(u, v)\n",
    "print(u, v, z, type(z), sep = \"\\n\")"
   ]
  },
  {
   "cell_type": "code",
   "execution_count": 8,
   "id": "303f4dbe",
   "metadata": {},
   "outputs": [
    {
     "name": "stdout",
     "output_type": "stream",
     "text": [
      "[[1, 0], [0, 1]]\n",
      "[[4, 1], [2, 2]]\n"
     ]
    },
    {
     "data": {
      "text/plain": [
       "array([[4, 1],\n",
       "       [2, 2]])"
      ]
     },
     "execution_count": 8,
     "metadata": {},
     "output_type": "execute_result"
    }
   ],
   "source": [
    "a = [[1, 0], [0, 1]]\n",
    "b = [[4, 1], [2, 2]]\n",
    "print(a)\n",
    "print(b)\n",
    "np.dot(a, b)"
   ]
  },
  {
   "cell_type": "markdown",
   "id": "5a84bfb7",
   "metadata": {},
   "source": [
    "#### Cross Product"
   ]
  },
  {
   "cell_type": "code",
   "execution_count": 7,
   "id": "98235a96",
   "metadata": {},
   "outputs": [
    {
     "name": "stdout",
     "output_type": "stream",
     "text": [
      "[[1 2 3]\n",
      " [4 5 6]]\n",
      "[[4 5 6]\n",
      " [1 2 3]]\n"
     ]
    },
    {
     "data": {
      "text/plain": [
       "array([[-3,  6, -3],\n",
       "       [ 3, -6,  3]])"
      ]
     },
     "execution_count": 7,
     "metadata": {},
     "output_type": "execute_result"
    }
   ],
   "source": [
    "x = np.array([[1,2,3], [4,5,6]])\n",
    "y = np.array([[4,5,6], [1,2,3]])\n",
    "print(x)\n",
    "print(y)\n",
    "np.cross(x, y)"
   ]
  },
  {
   "cell_type": "code",
   "execution_count": null,
   "id": "e12ea0ff",
   "metadata": {},
   "outputs": [],
   "source": []
  },
  {
   "cell_type": "code",
   "execution_count": null,
   "id": "422ed5ce-5750-4555-a2ef-d73eb5b4f848",
   "metadata": {},
   "outputs": [],
   "source": []
  },
  {
   "cell_type": "code",
   "execution_count": null,
   "id": "3607e6b6-74c1-4d24-b9a6-865840ed41fe",
   "metadata": {},
   "outputs": [],
   "source": []
  },
  {
   "cell_type": "code",
   "execution_count": null,
   "id": "f45002b3-ec31-4fcb-bcc4-a059847ee444",
   "metadata": {},
   "outputs": [],
   "source": []
  },
  {
   "cell_type": "code",
   "execution_count": null,
   "id": "03ee4a1b-60b6-4e9b-a1a5-297d9e09ca63",
   "metadata": {},
   "outputs": [],
   "source": []
  }
 ],
 "metadata": {
  "kernelspec": {
   "display_name": "Python 3 (ipykernel)",
   "language": "python",
   "name": "python3"
  },
  "language_info": {
   "codemirror_mode": {
    "name": "ipython",
    "version": 3
   },
   "file_extension": ".py",
   "mimetype": "text/x-python",
   "name": "python",
   "nbconvert_exporter": "python",
   "pygments_lexer": "ipython3",
   "version": "3.9.12"
  }
 },
 "nbformat": 4,
 "nbformat_minor": 5
}
