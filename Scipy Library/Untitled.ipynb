{
 "cells": [
  {
   "cell_type": "code",
   "execution_count": 1,
   "id": "fa3ceba0",
   "metadata": {},
   "outputs": [
    {
     "name": "stdout",
     "output_type": "stream",
     "text": [
      "7.0\n"
     ]
    }
   ],
   "source": [
    "from scipy import stats \n",
    "data ={\"A\": 90,\"B\": 86,\"C\":70,\"D\":95,\"E\":95,\"F\":95,\"G\":95} \n",
    "values = list(data.values()) \n",
    "print(stats.iqr(values))"
   ]
  },
  {
   "cell_type": "code",
   "execution_count": null,
   "id": "46471483",
   "metadata": {},
   "outputs": [],
   "source": []
  }
 ],
 "metadata": {
  "kernelspec": {
   "display_name": "Python 3 (ipykernel)",
   "language": "python",
   "name": "python3"
  },
  "language_info": {
   "codemirror_mode": {
    "name": "ipython",
    "version": 3
   },
   "file_extension": ".py",
   "mimetype": "text/x-python",
   "name": "python",
   "nbconvert_exporter": "python",
   "pygments_lexer": "ipython3",
   "version": "3.9.12"
  }
 },
 "nbformat": 4,
 "nbformat_minor": 5
}
