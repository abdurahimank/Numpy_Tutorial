{
 "cells": [
  {
   "cell_type": "markdown",
   "id": "c81db12d",
   "metadata": {},
   "source": [
    "# Pandas Library - Operations\n",
    "#### Index\n",
    "1. "
   ]
  },
  {
   "cell_type": "code",
   "execution_count": 2,
   "id": "3becca09",
   "metadata": {},
   "outputs": [],
   "source": [
    "import numpy as np\n",
    "import pandas as pd"
   ]
  },
  {
   "cell_type": "code",
   "execution_count": 4,
   "id": "a6bbc742",
   "metadata": {},
   "outputs": [
    {
     "data": {
      "text/plain": [
       "Brasil    35.46\n",
       "Russia    78.89\n",
       "India     34.23\n",
       "China     97.12\n",
       "SA        15.78\n",
       "Name: Brics Nations GDP, dtype: float64"
      ]
     },
     "execution_count": 4,
     "metadata": {},
     "output_type": "execute_result"
    }
   ],
   "source": [
    "a = pd.Series([35.46, 78.89, 34.23, 97.12, 15.78], \n",
    "             index = [\"Brasil\", \"Russia\", \"India\", \"China\", \"SA\"], name = \"Brics Nations GDP\")\n",
    "a"
   ]
  },
  {
   "cell_type": "code",
   "execution_count": 5,
   "id": "d775a428",
   "metadata": {},
   "outputs": [
    {
     "name": "stdout",
     "output_type": "stream",
     "text": [
      "<bound method NDFrame._add_numeric_operations.<locals>.mean of Brasil    35.46\n",
      "Russia    78.89\n",
      "India     34.23\n",
      "China     97.12\n",
      "SA        15.78\n",
      "Name: Brics Nations GDP, dtype: float64>\n"
     ]
    }
   ],
   "source": [
    "print(a.mean)"
   ]
  },
  {
   "cell_type": "code",
   "execution_count": null,
   "id": "393c7f36",
   "metadata": {},
   "outputs": [],
   "source": []
  }
 ],
 "metadata": {
  "kernelspec": {
   "display_name": "Python 3 (ipykernel)",
   "language": "python",
   "name": "python3"
  },
  "language_info": {
   "codemirror_mode": {
    "name": "ipython",
    "version": 3
   },
   "file_extension": ".py",
   "mimetype": "text/x-python",
   "name": "python",
   "nbconvert_exporter": "python",
   "pygments_lexer": "ipython3",
   "version": "3.9.12"
  }
 },
 "nbformat": 4,
 "nbformat_minor": 5
}
