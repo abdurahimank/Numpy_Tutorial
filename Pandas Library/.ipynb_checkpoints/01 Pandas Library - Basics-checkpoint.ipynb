{
 "cells": [
  {
   "cell_type": "markdown",
   "id": "bb2b176f",
   "metadata": {},
   "source": [
    "# Pandas Library - Basics\n",
    "#### Index\n",
    "1. Series\n",
    "2. DataFrame"
   ]
  },
  {
   "cell_type": "code",
   "execution_count": 1,
   "id": "6ab53214",
   "metadata": {},
   "outputs": [],
   "source": [
    "import pandas as pd\n",
    "import numpy as np"
   ]
  },
  {
   "cell_type": "code",
   "execution_count": 5,
   "id": "8f5432ec",
   "metadata": {},
   "outputs": [
    {
     "name": "stdout",
     "output_type": "stream",
     "text": [
      "1.4.2\n"
     ]
    }
   ],
   "source": [
    "print(pd.__version__)"
   ]
  },
  {
   "cell_type": "markdown",
   "id": "df3070ff",
   "metadata": {},
   "source": [
    "## Series\n",
    "* A Pandas Series is like a column in a table.\n",
    "* It is a one-dimensional array holding data of any type."
   ]
  },
  {
   "cell_type": "markdown",
   "id": "4f9b2e84",
   "metadata": {},
   "source": [
    "**Creating Series from Lists and Tuples**"
   ]
  },
  {
   "cell_type": "code",
   "execution_count": 2,
   "id": "1f13b72e",
   "metadata": {},
   "outputs": [
    {
     "data": {
      "text/plain": [
       "0    35.46\n",
       "1    78.89\n",
       "2    34.23\n",
       "3    97.12\n",
       "4    15.78\n",
       "dtype: float64"
      ]
     },
     "execution_count": 2,
     "metadata": {},
     "output_type": "execute_result"
    }
   ],
   "source": [
    "a = pd.Series([35.46, 78.89, 34.23, 97.12, 15.78])\n",
    "a"
   ]
  },
  {
   "cell_type": "markdown",
   "id": "31b0031d",
   "metadata": {},
   "source": [
    "**Key/Value Objects as Series**\n",
    "* You can also use a key/value object, like a dictionary, when creating a Series.\n",
    "* The keys of the dictionary become the labels."
   ]
  },
  {
   "cell_type": "code",
   "execution_count": 13,
   "id": "1a46e77c",
   "metadata": {},
   "outputs": [
    {
     "name": "stdout",
     "output_type": "stream",
     "text": [
      "day1    420\n",
      "day2    380\n",
      "day3    390\n",
      "dtype: int64\n"
     ]
    }
   ],
   "source": [
    "import pandas as pd\n",
    "calories = {\"day1\": 420, \"day2\": 380, \"day3\": 390}\n",
    "myvar = pd.Series(calories)\n",
    "print(myvar)"
   ]
  },
  {
   "cell_type": "code",
   "execution_count": 12,
   "id": "5e309e67",
   "metadata": {},
   "outputs": [
    {
     "name": "stdout",
     "output_type": "stream",
     "text": [
      "day1    420\n",
      "day2    380\n",
      "dtype: int64\n"
     ]
    }
   ],
   "source": [
    "# Selecting specific objects\n",
    "import pandas as pd\n",
    "calories = {\"day1\": 420, \"day2\": 380, \"day3\": 390}\n",
    "myvar = pd.Series(calories, index = [\"day1\", \"day2\"])\n",
    "print(myvar)"
   ]
  },
  {
   "cell_type": "code",
   "execution_count": null,
   "id": "6fb82c63",
   "metadata": {},
   "outputs": [],
   "source": []
  },
  {
   "cell_type": "code",
   "execution_count": null,
   "id": "8e96bb32",
   "metadata": {},
   "outputs": [],
   "source": []
  },
  {
   "cell_type": "markdown",
   "id": "30cca658",
   "metadata": {},
   "source": [
    "### Labels\n",
    "* If nothing else is specified, the values are labeled with their index number. First value has index 0, second value has index 1 etc.\n",
    "* This label can be used to access a specified value."
   ]
  },
  {
   "cell_type": "code",
   "execution_count": 9,
   "id": "24447572",
   "metadata": {},
   "outputs": [
    {
     "name": "stdout",
     "output_type": "stream",
     "text": [
      "0    35.46\n",
      "1    78.89\n",
      "2    34.23\n",
      "3    97.12\n",
      "4    15.78\n",
      "dtype: float64\n",
      "35.46\n"
     ]
    }
   ],
   "source": [
    "a = pd.Series([35.46, 78.89, 34.23, 97.12, 15.78])\n",
    "print(a)\n",
    "print(a[0])"
   ]
  },
  {
   "cell_type": "markdown",
   "id": "a98f2e56",
   "metadata": {},
   "source": [
    "* **With the index argument, you can name your own labels**.\n",
    "* When you have created labels, you can access an item by referring to the label."
   ]
  },
  {
   "cell_type": "code",
   "execution_count": 10,
   "id": "3b9574f2",
   "metadata": {},
   "outputs": [
    {
     "name": "stdout",
     "output_type": "stream",
     "text": [
      "Brasil    35.46\n",
      "Russia    78.89\n",
      "India     34.23\n",
      "China     97.12\n",
      "SA        15.78\n",
      "dtype: float64\n",
      "78.89\n"
     ]
    }
   ],
   "source": [
    "# Giving manual index values\n",
    "a.index = [\"Brasil\", \n",
    "          \"Russia\", \n",
    "          \"India\",\n",
    "          \"China\",\n",
    "          \"SA\"]\n",
    "print(a)\n",
    "print(a[\"Russia\"])"
   ]
  },
  {
   "cell_type": "code",
   "execution_count": null,
   "id": "61d1f1b9",
   "metadata": {},
   "outputs": [],
   "source": []
  },
  {
   "cell_type": "code",
   "execution_count": 3,
   "id": "88de4d09",
   "metadata": {},
   "outputs": [
    {
     "data": {
      "text/plain": [
       "0    35.46\n",
       "1    78.89\n",
       "2    34.23\n",
       "3    97.12\n",
       "4    15.78\n",
       "Name: G7 Population in millions, dtype: float64"
      ]
     },
     "execution_count": 3,
     "metadata": {},
     "output_type": "execute_result"
    }
   ],
   "source": [
    "a.name = \"G7 Population in millions\"\n",
    "a"
   ]
  },
  {
   "cell_type": "code",
   "execution_count": 5,
   "id": "87e98a2c",
   "metadata": {},
   "outputs": [
    {
     "data": {
      "text/plain": [
       "dtype('float64')"
      ]
     },
     "execution_count": 5,
     "metadata": {},
     "output_type": "execute_result"
    }
   ],
   "source": [
    "a.dtype"
   ]
  },
  {
   "cell_type": "code",
   "execution_count": 6,
   "id": "f0ad7772",
   "metadata": {},
   "outputs": [
    {
     "data": {
      "text/plain": [
       "array([35.46, 78.89, 34.23, 97.12, 15.78])"
      ]
     },
     "execution_count": 6,
     "metadata": {},
     "output_type": "execute_result"
    }
   ],
   "source": [
    "a.values"
   ]
  },
  {
   "cell_type": "code",
   "execution_count": 7,
   "id": "9e786113",
   "metadata": {},
   "outputs": [
    {
     "data": {
      "text/plain": [
       "numpy.ndarray"
      ]
     },
     "execution_count": 7,
     "metadata": {},
     "output_type": "execute_result"
    }
   ],
   "source": [
    "type(a.values)"
   ]
  },
  {
   "cell_type": "code",
   "execution_count": 8,
   "id": "2aa06842",
   "metadata": {},
   "outputs": [
    {
     "data": {
      "text/plain": [
       "'G7 Population in millions'"
      ]
     },
     "execution_count": 8,
     "metadata": {},
     "output_type": "execute_result"
    }
   ],
   "source": [
    "a.name"
   ]
  },
  {
   "cell_type": "code",
   "execution_count": 9,
   "id": "ab5ec23a",
   "metadata": {},
   "outputs": [
    {
     "data": {
      "text/plain": [
       "RangeIndex(start=0, stop=5, step=1)"
      ]
     },
     "execution_count": 9,
     "metadata": {},
     "output_type": "execute_result"
    }
   ],
   "source": [
    "a.index"
   ]
  },
  {
   "cell_type": "code",
   "execution_count": 10,
   "id": "2f08516f",
   "metadata": {},
   "outputs": [
    {
     "data": {
      "text/plain": [
       "Brasil    35.46\n",
       "Russia    78.89\n",
       "India     34.23\n",
       "China     97.12\n",
       "SA        15.78\n",
       "Name: G7 Population in millions, dtype: float64"
      ]
     },
     "execution_count": 10,
     "metadata": {},
     "output_type": "execute_result"
    }
   ],
   "source": []
  },
  {
   "cell_type": "code",
   "execution_count": null,
   "id": "1b869559",
   "metadata": {},
   "outputs": [],
   "source": [
    "certificates_earned = pd.Series(\n",
    "    [8, 2, 5, 6],\n",
    "    index=['Tom', 'Kris', 'Ahmad', 'Beau']"
   ]
  },
  {
   "cell_type": "markdown",
   "id": "98e40497",
   "metadata": {},
   "source": [
    "### Accessing Elements"
   ]
  },
  {
   "cell_type": "code",
   "execution_count": 13,
   "id": "04cbb2ff",
   "metadata": {},
   "outputs": [
    {
     "data": {
      "text/plain": [
       "Brasil    35.46\n",
       "Russia    78.89\n",
       "India     34.23\n",
       "China     97.12\n",
       "SA        15.78\n",
       "Name: Brics Nations GDP, dtype: float64"
      ]
     },
     "execution_count": 13,
     "metadata": {},
     "output_type": "execute_result"
    }
   ],
   "source": [
    "a = pd.Series([35.46, 78.89, 34.23, 97.12, 15.78], \n",
    "             index = [\"Brasil\", \"Russia\", \"India\", \"China\", \"SA\"], name = \"Brics Nations GDP\")\n",
    "a"
   ]
  },
  {
   "cell_type": "code",
   "execution_count": 16,
   "id": "2aae1ee4",
   "metadata": {},
   "outputs": [
    {
     "name": "stdout",
     "output_type": "stream",
     "text": [
      "34.23\n"
     ]
    }
   ],
   "source": [
    "# accessing by index\n",
    "print(a[2])"
   ]
  },
  {
   "cell_type": "code",
   "execution_count": null,
   "id": "d0297afb",
   "metadata": {},
   "outputs": [],
   "source": [
    "# accessing by index name\n",
    "print(a[\"China\"])"
   ]
  },
  {
   "cell_type": "code",
   "execution_count": 17,
   "id": "80c47eca",
   "metadata": {},
   "outputs": [
    {
     "name": "stdout",
     "output_type": "stream",
     "text": [
      "15.78\n"
     ]
    }
   ],
   "source": [
    "# with \"iloc\" attribute\n",
    "print(a.iloc[4])"
   ]
  },
  {
   "cell_type": "code",
   "execution_count": 18,
   "id": "d127cbe0",
   "metadata": {},
   "outputs": [
    {
     "name": "stdout",
     "output_type": "stream",
     "text": [
      "India    34.23\n",
      "China    97.12\n",
      "Name: Brics Nations GDP, dtype: float64\n"
     ]
    }
   ],
   "source": [
    "# multiple elements with index name\n",
    "print(a[[\"India\", \"China\"]])"
   ]
  },
  {
   "cell_type": "code",
   "execution_count": 19,
   "id": "db18d12a",
   "metadata": {},
   "outputs": [
    {
     "name": "stdout",
     "output_type": "stream",
     "text": [
      "Brasil    35.46\n",
      "SA        15.78\n",
      "Name: Brics Nations GDP, dtype: float64\n"
     ]
    }
   ],
   "source": [
    "# multiple elements with \"iloc\"\n",
    "print(a.iloc[[0, 4]])"
   ]
  },
  {
   "cell_type": "markdown",
   "id": "ec35777f",
   "metadata": {},
   "source": [
    "#### Conditional Selection"
   ]
  },
  {
   "cell_type": "code",
   "execution_count": 21,
   "id": "ae7bf6f5",
   "metadata": {},
   "outputs": [
    {
     "data": {
      "text/plain": [
       "Brasil    35.46\n",
       "Russia    78.89\n",
       "India     34.23\n",
       "China     97.12\n",
       "SA        15.78\n",
       "Name: Brics Nations GDP, dtype: float64"
      ]
     },
     "execution_count": 21,
     "metadata": {},
     "output_type": "execute_result"
    }
   ],
   "source": [
    "a = pd.Series([35.46, 78.89, 34.23, 97.12, 15.78], \n",
    "             index = [\"Brasil\", \"Russia\", \"India\", \"China\", \"SA\"], name = \"Brics Nations GDP\")\n",
    "a"
   ]
  },
  {
   "cell_type": "code",
   "execution_count": 23,
   "id": "a3f20943",
   "metadata": {},
   "outputs": [
    {
     "data": {
      "text/plain": [
       "Russia    78.89\n",
       "China     97.12\n",
       "Name: Brics Nations GDP, dtype: float64"
      ]
     },
     "execution_count": 23,
     "metadata": {},
     "output_type": "execute_result"
    }
   ],
   "source": [
    "a[a > 50]"
   ]
  },
  {
   "cell_type": "markdown",
   "id": "8446f259",
   "metadata": {},
   "source": [
    "### Modifying Series"
   ]
  },
  {
   "cell_type": "code",
   "execution_count": 24,
   "id": "2d850454",
   "metadata": {},
   "outputs": [
    {
     "data": {
      "text/plain": [
       "Brasil    35.46\n",
       "Russia    78.89\n",
       "India     34.23\n",
       "China     97.12\n",
       "SA        15.78\n",
       "Name: Brics Nations GDP, dtype: float64"
      ]
     },
     "execution_count": 24,
     "metadata": {},
     "output_type": "execute_result"
    }
   ],
   "source": [
    "a = pd.Series([35.46, 78.89, 34.23, 97.12, 15.78], \n",
    "             index = [\"Brasil\", \"Russia\", \"India\", \"China\", \"SA\"], name = \"Brics Nations GDP\")\n",
    "a"
   ]
  },
  {
   "cell_type": "code",
   "execution_count": 25,
   "id": "17be7b97",
   "metadata": {},
   "outputs": [
    {
     "data": {
      "text/plain": [
       "Brasil    50.00\n",
       "Russia    78.89\n",
       "India     34.23\n",
       "China     97.12\n",
       "SA        15.78\n",
       "Name: Brics Nations GDP, dtype: float64"
      ]
     },
     "execution_count": 25,
     "metadata": {},
     "output_type": "execute_result"
    }
   ],
   "source": [
    "a[\"Brasil\"] = 50\n",
    "a"
   ]
  },
  {
   "cell_type": "code",
   "execution_count": 26,
   "id": "0543f89d",
   "metadata": {},
   "outputs": [
    {
     "data": {
      "text/plain": [
       "Brasil    50.00\n",
       "Russia    78.89\n",
       "India     50.00\n",
       "China     97.12\n",
       "SA        50.00\n",
       "Name: Brics Nations GDP, dtype: float64"
      ]
     },
     "execution_count": 26,
     "metadata": {},
     "output_type": "execute_result"
    }
   ],
   "source": [
    "a[a < 50] = 50\n",
    "a"
   ]
  },
  {
   "cell_type": "markdown",
   "id": "c6d25cee",
   "metadata": {},
   "source": [
    "#### Differences between loc and iloc\n",
    "loc is label-based, which means that you have to specify rows and columns based on their row and column labels. iloc is integer position-based, so you have to specify rows and columns by their integer position values (0-based integer position)."
   ]
  },
  {
   "cell_type": "markdown",
   "id": "8d590402",
   "metadata": {},
   "source": [
    "## DataFrames\n",
    "* A Pandas DataFrame is a 2 dimensional data structure, like a 2 dimensional array, or a table with rows and columns."
   ]
  },
  {
   "cell_type": "code",
   "execution_count": 7,
   "id": "a6cd0a0a",
   "metadata": {},
   "outputs": [
    {
     "name": "stdout",
     "output_type": "stream",
     "text": [
      "<class 'dict'> {'cars': ['BMW', 'Volvo', 'Ford'], 'passings': [3, 7, 2]}\n",
      "    cars  passings\n",
      "0    BMW         3\n",
      "1  Volvo         7\n",
      "2   Ford         2\n"
     ]
    }
   ],
   "source": [
    "import pandas as pd\n",
    "\n",
    "mydataset = {\n",
    "  'cars': [\"BMW\", \"Volvo\", \"Ford\"],\n",
    "  'passings': [3, 7, 2]\n",
    "}\n",
    "print(type(mydataset), mydataset)\n",
    "df = pd.DataFrame(mydataset)\n",
    "print(df)"
   ]
  },
  {
   "cell_type": "code",
   "execution_count": 14,
   "id": "7b8c5eb9",
   "metadata": {},
   "outputs": [
    {
     "name": "stdout",
     "output_type": "stream",
     "text": [
      "   calories  duration\n",
      "0       420        50\n",
      "1       380        40\n",
      "2       390        45\n"
     ]
    }
   ],
   "source": [
    "import pandas as pd\n",
    "data = {\n",
    "  \"calories\": [420, 380, 390],\n",
    "  \"duration\": [50, 40, 45]\n",
    "}\n",
    "myvar = pd.DataFrame(data)\n",
    "print(myvar)"
   ]
  },
  {
   "cell_type": "markdown",
   "id": "51f5bdb4",
   "metadata": {},
   "source": [
    "### Accessing Elements\n",
    "#### By index value"
   ]
  },
  {
   "cell_type": "code",
   "execution_count": 16,
   "id": "ac331739",
   "metadata": {},
   "outputs": [
    {
     "name": "stdout",
     "output_type": "stream",
     "text": [
      "    cars  passings\n",
      "0    BMW         3\n",
      "1  Volvo         7\n",
      "2   Ford         2\n",
      "cars        BMW\n",
      "passings      3\n",
      "Name: 0, dtype: object\n"
     ]
    }
   ],
   "source": [
    "import pandas as pd\n",
    "\n",
    "mydataset = {\n",
    "  'cars': [\"BMW\", \"Volvo\", \"Ford\"],\n",
    "  'passings': [3, 7, 2]\n",
    "}\n",
    "df = pd.DataFrame(mydataset)\n",
    "print(df)\n",
    "print(df.loc[0])"
   ]
  },
  {
   "cell_type": "code",
   "execution_count": 17,
   "id": "2b84b0a9",
   "metadata": {},
   "outputs": [
    {
     "name": "stdout",
     "output_type": "stream",
     "text": [
      "   cars  passings\n",
      "0   BMW         3\n",
      "2  Ford         2\n"
     ]
    }
   ],
   "source": [
    "print(df.loc[[0, 2]])"
   ]
  },
  {
   "cell_type": "markdown",
   "id": "5674ebf3",
   "metadata": {},
   "source": [
    "#### By index name"
   ]
  },
  {
   "cell_type": "code",
   "execution_count": 19,
   "id": "10058e8c",
   "metadata": {},
   "outputs": [
    {
     "name": "stdout",
     "output_type": "stream",
     "text": [
      "      calories  duration\n",
      "day1       420        50\n",
      "day2       380        40\n",
      "day3       390        45\n"
     ]
    }
   ],
   "source": [
    "import pandas as pd\n",
    "data = {\n",
    "  \"calories\": [420, 380, 390],\n",
    "  \"duration\": [50, 40, 45]\n",
    "}\n",
    "df = pd.DataFrame(data, index = [\"day1\", \"day2\", \"day3\"])\n",
    "\n",
    "print(df)"
   ]
  },
  {
   "cell_type": "code",
   "execution_count": 20,
   "id": "db0a9c2f",
   "metadata": {},
   "outputs": [
    {
     "name": "stdout",
     "output_type": "stream",
     "text": [
      "calories    380\n",
      "duration     40\n",
      "Name: day2, dtype: int64\n"
     ]
    }
   ],
   "source": [
    "print(df.loc[\"day2\"])"
   ]
  },
  {
   "cell_type": "code",
   "execution_count": null,
   "id": "813888c0",
   "metadata": {},
   "outputs": [],
   "source": []
  }
 ],
 "metadata": {
  "kernelspec": {
   "display_name": "Python 3 (ipykernel)",
   "language": "python",
   "name": "python3"
  },
  "language_info": {
   "codemirror_mode": {
    "name": "ipython",
    "version": 3
   },
   "file_extension": ".py",
   "mimetype": "text/x-python",
   "name": "python",
   "nbconvert_exporter": "python",
   "pygments_lexer": "ipython3",
   "version": "3.9.12"
  }
 },
 "nbformat": 4,
 "nbformat_minor": 5
}
