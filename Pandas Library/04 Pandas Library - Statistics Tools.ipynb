{
 "cells": [
  {
   "cell_type": "markdown",
   "id": "bbb65a5c",
   "metadata": {},
   "source": [
    "# Pandas Library - Statistics Tools\n",
    "#### Index\n",
    "1. "
   ]
  },
  {
   "cell_type": "code",
   "execution_count": 2,
   "id": "0baecfbe",
   "metadata": {},
   "outputs": [],
   "source": [
    "import numpy as np\n",
    "import pandas as pd"
   ]
  },
  {
   "cell_type": "code",
   "execution_count": 3,
   "id": "e6a20f28",
   "metadata": {},
   "outputs": [
    {
     "data": {
      "text/plain": [
       "Brasil    35.46\n",
       "Russia    78.89\n",
       "India     34.23\n",
       "China     97.12\n",
       "SA        15.78\n",
       "Name: Brics Nations GDP, dtype: float64"
      ]
     },
     "execution_count": 3,
     "metadata": {},
     "output_type": "execute_result"
    }
   ],
   "source": [
    "a = pd.Series([35.46, 78.89, 34.23, 97.12, 15.78], \n",
    "             index = [\"Brasil\", \"Russia\", \"India\", \"China\", \"SA\"], name = \"Brics Nations GDP\")\n",
    "a"
   ]
  },
  {
   "cell_type": "code",
   "execution_count": 4,
   "id": "dd0c3a2f",
   "metadata": {},
   "outputs": [
    {
     "data": {
      "text/plain": [
       "52.29599999999999"
      ]
     },
     "execution_count": 4,
     "metadata": {},
     "output_type": "execute_result"
    }
   ],
   "source": [
    "a.mean()"
   ]
  },
  {
   "cell_type": "code",
   "execution_count": 5,
   "id": "e5d6807d",
   "metadata": {},
   "outputs": [
    {
     "data": {
      "text/plain": [
       "34.13092922848717"
      ]
     },
     "execution_count": 5,
     "metadata": {},
     "output_type": "execute_result"
    }
   ],
   "source": [
    "a.std()"
   ]
  },
  {
   "cell_type": "code",
   "execution_count": 6,
   "id": "951cd618",
   "metadata": {},
   "outputs": [
    {
     "data": {
      "text/plain": [
       "1164.92033"
      ]
     },
     "execution_count": 6,
     "metadata": {},
     "output_type": "execute_result"
    }
   ],
   "source": [
    "a.var()"
   ]
  },
  {
   "cell_type": "code",
   "execution_count": null,
   "id": "d87342b8",
   "metadata": {},
   "outputs": [],
   "source": []
  }
 ],
 "metadata": {
  "kernelspec": {
   "display_name": "Python 3 (ipykernel)",
   "language": "python",
   "name": "python3"
  },
  "language_info": {
   "codemirror_mode": {
    "name": "ipython",
    "version": 3
   },
   "file_extension": ".py",
   "mimetype": "text/x-python",
   "name": "python",
   "nbconvert_exporter": "python",
   "pygments_lexer": "ipython3",
   "version": "3.9.12"
  }
 },
 "nbformat": 4,
 "nbformat_minor": 5
}
